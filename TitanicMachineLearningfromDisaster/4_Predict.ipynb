{
 "cells": [
  {
   "cell_type": "code",
   "execution_count": 6,
   "metadata": {},
   "outputs": [],
   "source": [
    "import numpy as np\n",
    "import pandas as pd\n",
    "import warnings\n",
    "\n",
    "warnings.filterwarnings('ignore')\n",
    "\n",
    "train_data = pd.read_csv('train_data.csv')\n",
    "test_data = pd.read_csv('test_data.csv')\n",
    "\n",
    "x_train = train_data.loc[:,(train_data.columns != 'Survived')]\n",
    "y_train = train_data['Survived']"
   ]
  },
  {
   "cell_type": "markdown",
   "metadata": {},
   "source": [
    "<font color=blue>训练几个分类器查看效果</font>"
   ]
  },
  {
   "cell_type": "code",
   "execution_count": 15,
   "metadata": {},
   "outputs": [
    {
     "name": "stdout",
     "output_type": "stream",
     "text": [
      "best params: {'C': 1, 'penalty': 'l2'}\n",
      "best score: 0.8237934904601572\n"
     ]
    }
   ],
   "source": [
    "# 逻辑回归\n",
    "from sklearn.linear_model import LogisticRegression\n",
    "from sklearn.model_selection import GridSearchCV\n",
    "\n",
    "penalty = ['l1', 'l2']\n",
    "C = [0.001, 0.01, 0.1, 1, 10, 100, 1000]\n",
    "parameters = dict(penalty=penalty, C=C) # 参数\n",
    "\n",
    "lr = LogisticRegression()\n",
    "grid = GridSearchCV(lr, parameters, cv=5)\n",
    "grid.fit(x_train, y_train)\n",
    "# grid.cv_results_\n",
    "print('best params:', grid.best_params_)\n",
    "print('best score:', grid.best_score_)"
   ]
  },
  {
   "cell_type": "code",
   "execution_count": 14,
   "metadata": {},
   "outputs": [
    {
     "name": "stdout",
     "output_type": "stream",
     "text": [
      "best params: {'C': 1, 'gamma': 0.1}\n",
      "best score: 0.8327721661054994\n"
     ]
    }
   ],
   "source": [
    "# 支持向量机\n",
    "from sklearn.svm import SVC\n",
    "from sklearn.model_selection import GridSearchCV\n",
    "\n",
    "gamma = [0.001, 0.01, 0.1, 1, 10, 100, 100]\n",
    "C = [0.001, 0.01, 0.1, 1, 10, 100, 100]\n",
    "parameters = dict(gamma=gamma, C=C) # 参数\n",
    "\n",
    "svm = SVC()\n",
    "grid = GridSearchCV(svm, parameters, cv=5)\n",
    "grid.fit(x_train, y_train)\n",
    "\n",
    "print('best params:', grid.best_params_)\n",
    "print('best score:', grid.best_score_)"
   ]
  },
  {
   "cell_type": "code",
   "execution_count": 24,
   "metadata": {},
   "outputs": [
    {
     "name": "stdout",
     "output_type": "stream",
     "text": [
      "best params: {'criterion': 'gini', 'min_samples_leaf': 2, 'n_estimators': 10}\n",
      "best score: 0.8372615039281706\n"
     ]
    }
   ],
   "source": [
    "# 随机森林\n",
    "from sklearn.ensemble import RandomForestClassifier\n",
    "from sklearn.model_selection import GridSearchCV\n",
    "\n",
    "n_estimators = [10, 15, 20] # 弱分类器个数\n",
    "criterion = ['gini', 'entropy'] # 划分时评价标准\n",
    "min_samples_leaf = [2, 4, 6] # 叶子节点最小样本数\n",
    "parameters = dict(n_estimators=n_estimators, criterion=criterion, min_samples_leaf=mini_samples_leaf)\n",
    "\n",
    "clf = RandomForestClassifier()\n",
    "grid = GridSearchCV(clf, parameters, cv=5)\n",
    "grid.fit(x_train, y_train)\n",
    "\n",
    "print('best params:', grid.best_params_)\n",
    "print('best score:', grid.best_score_)"
   ]
  },
  {
   "cell_type": "code",
   "execution_count": 33,
   "metadata": {},
   "outputs": [],
   "source": [
    "# 使用随机森林预测\n",
    "\n",
    "clf = RandomForestClassifier(n_estimators=10, criterion='gini', min_samples_leaf=2)\n",
    "clf.fit(x_train, y_train)\n",
    "predict_data = clf.predict(test_data.loc[:, test_data.columns != 'PassengerId'])\n",
    "\n",
    "submission = pd.DataFrame({\n",
    "    'PassengerId':test_data['PassengerId'],\n",
    "    'Survived':predict_data\n",
    "})\n",
    "\n",
    "submission.to_csv('gender_submission.csv', index=False)"
   ]
  },
  {
   "cell_type": "markdown",
   "metadata": {},
   "source": [
    "<font color=blue>得分0.75598，没有简单的决策树分数高</font>"
   ]
  }
 ],
 "metadata": {
  "kernelspec": {
   "display_name": "Python 3",
   "language": "python",
   "name": "python3"
  },
  "language_info": {
   "codemirror_mode": {
    "name": "ipython",
    "version": 3
   },
   "file_extension": ".py",
   "mimetype": "text/x-python",
   "name": "python",
   "nbconvert_exporter": "python",
   "pygments_lexer": "ipython3",
   "version": "3.7.0"
  }
 },
 "nbformat": 4,
 "nbformat_minor": 2
}
