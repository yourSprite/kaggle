{
 "cells": [
  {
   "cell_type": "code",
   "execution_count": 33,
   "metadata": {
    "ExecuteTime": {
     "end_time": "2019-08-04T13:54:50.374486Z",
     "start_time": "2019-08-04T13:54:50.372183Z"
    }
   },
   "outputs": [],
   "source": [
    "import pandas as pd"
   ]
  },
  {
   "cell_type": "code",
   "execution_count": 34,
   "metadata": {
    "ExecuteTime": {
     "end_time": "2019-08-04T13:54:50.816283Z",
     "start_time": "2019-08-04T13:54:50.377420Z"
    }
   },
   "outputs": [],
   "source": [
    "submission1 = pd.read_csv('./blend_data/submission1.csv')\n",
    "submission2 = pd.read_csv('./blend_data/submission2.csv')\n",
    "submission3 = pd.read_csv('./blend_data/submission3.csv')"
   ]
  },
  {
   "cell_type": "code",
   "execution_count": 35,
   "metadata": {
    "ExecuteTime": {
     "end_time": "2019-08-04T13:54:50.826140Z",
     "start_time": "2019-08-04T13:54:50.818673Z"
    }
   },
   "outputs": [],
   "source": [
    "sub = submission1.copy()"
   ]
  },
  {
   "cell_type": "code",
   "execution_count": 36,
   "metadata": {
    "ExecuteTime": {
     "end_time": "2019-08-04T13:54:50.830832Z",
     "start_time": "2019-08-04T13:54:50.828306Z"
    }
   },
   "outputs": [],
   "source": [
    "sub.columns = ['TransactionID', 'isFraud1']"
   ]
  },
  {
   "cell_type": "code",
   "execution_count": 37,
   "metadata": {
    "ExecuteTime": {
     "end_time": "2019-08-04T13:54:50.839354Z",
     "start_time": "2019-08-04T13:54:50.832347Z"
    }
   },
   "outputs": [],
   "source": [
    "sub['isFraud2'] = submission2['isFraud']\n",
    "sub['isFraud3'] = submission3['isFraud']"
   ]
  },
  {
   "cell_type": "code",
   "execution_count": 38,
   "metadata": {
    "ExecuteTime": {
     "end_time": "2019-08-04T13:54:50.856424Z",
     "start_time": "2019-08-04T13:54:50.841440Z"
    }
   },
   "outputs": [],
   "source": [
    "sub['isFraud'] = 0.2*sub['isFraud1'] + 0.2*sub['isFraud2'] + 0.6*sub['isFraud3']"
   ]
  },
  {
   "cell_type": "code",
   "execution_count": 39,
   "metadata": {
    "ExecuteTime": {
     "end_time": "2019-08-04T13:54:50.890265Z",
     "start_time": "2019-08-04T13:54:50.858212Z"
    }
   },
   "outputs": [],
   "source": [
    "sub = sub[['TransactionID', 'isFraud']]"
   ]
  },
  {
   "cell_type": "code",
   "execution_count": 40,
   "metadata": {
    "ExecuteTime": {
     "end_time": "2019-08-04T13:54:52.390699Z",
     "start_time": "2019-08-04T13:54:50.891715Z"
    }
   },
   "outputs": [],
   "source": [
    "sub.to_csv('./blend_data/sub.csv', index=False)"
   ]
  },
  {
   "cell_type": "code",
   "execution_count": null,
   "metadata": {},
   "outputs": [],
   "source": []
  }
 ],
 "metadata": {
  "kernelspec": {
   "display_name": "Python 3",
   "language": "python",
   "name": "python3"
  },
  "language_info": {
   "codemirror_mode": {
    "name": "ipython",
    "version": 3
   },
   "file_extension": ".py",
   "mimetype": "text/x-python",
   "name": "python",
   "nbconvert_exporter": "python",
   "pygments_lexer": "ipython3",
   "version": "3.6.4"
  },
  "toc": {
   "base_numbering": 1,
   "nav_menu": {},
   "number_sections": true,
   "sideBar": true,
   "skip_h1_title": false,
   "title_cell": "Table of Contents",
   "title_sidebar": "Contents",
   "toc_cell": false,
   "toc_position": {},
   "toc_section_display": true,
   "toc_window_display": false
  },
  "varInspector": {
   "cols": {
    "lenName": 16,
    "lenType": 16,
    "lenVar": 40
   },
   "kernels_config": {
    "python": {
     "delete_cmd_postfix": "",
     "delete_cmd_prefix": "del ",
     "library": "var_list.py",
     "varRefreshCmd": "print(var_dic_list())"
    },
    "r": {
     "delete_cmd_postfix": ") ",
     "delete_cmd_prefix": "rm(",
     "library": "var_list.r",
     "varRefreshCmd": "cat(var_dic_list()) "
    }
   },
   "types_to_exclude": [
    "module",
    "function",
    "builtin_function_or_method",
    "instance",
    "_Feature"
   ],
   "window_display": false
  }
 },
 "nbformat": 4,
 "nbformat_minor": 2
}
