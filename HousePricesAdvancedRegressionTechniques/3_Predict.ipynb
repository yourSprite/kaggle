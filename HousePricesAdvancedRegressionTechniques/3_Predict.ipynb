{
 "cells": [
  {
   "cell_type": "code",
   "execution_count": 1,
   "metadata": {},
   "outputs": [],
   "source": [
    "import pandas as pd\n",
    "import numpy as np\n",
    "import warnings\n",
    "\n",
    "warnings.filterwarnings('ignore')"
   ]
  },
  {
   "cell_type": "code",
   "execution_count": 2,
   "metadata": {},
   "outputs": [],
   "source": [
    "train_data = pd.read_csv('data/train_data.csv')\n",
    "test_data = pd.read_csv('data/test_data.csv')"
   ]
  },
  {
   "cell_type": "code",
   "execution_count": 3,
   "metadata": {},
   "outputs": [],
   "source": [
    "y_train = train_data['SalePrice']\n",
    "x_train = train_data.drop(['Id', 'SalePrice'], axis=1)\n",
    "\n",
    "x_test = test_data.drop(['Id'], axis=1)"
   ]
  },
  {
   "cell_type": "code",
   "execution_count": 4,
   "metadata": {},
   "outputs": [],
   "source": [
    "# 定义均方根误差计算函数\n",
    "\n",
    "from sklearn.model_selection import cross_val_score\n",
    "\n",
    "def rmse_cv(model, x, y):\n",
    "    rmse = np.sqrt(-cross_val_score(model, x, y, scoring='neg_mean_squared_error', cv=5))\n",
    "    return rmse"
   ]
  },
  {
   "cell_type": "code",
   "execution_count": 5,
   "metadata": {},
   "outputs": [
    {
     "name": "stdout",
     "output_type": "stream",
     "text": [
      "LR:8449784977.720961,16899569955.1328\n",
      "Ridge:0.149114,0.0270\n",
      "Lasso:0.151502,0.0250\n",
      "RF:0.153000,0.0103\n",
      "GBR:0.128597,0.0092\n",
      "SVR:0.173867,0.0148\n",
      "LinSVR:0.268582,0.2228\n",
      "Xgb:0.130202,0.0117\n"
     ]
    }
   ],
   "source": [
    "# 计算各个模型的均方根误差\n",
    "\n",
    "from sklearn.linear_model import LinearRegression\n",
    "from sklearn.linear_model import Ridge\n",
    "from sklearn.linear_model import Lasso\n",
    "from sklearn.ensemble import RandomForestRegressor, GradientBoostingRegressor\n",
    "from sklearn.svm import SVR, LinearSVR\n",
    "from xgboost import XGBRegressor\n",
    "\n",
    "models = [LinearRegression(), Ridge(), Lasso(alpha=0.01,max_iter=10000), RandomForestRegressor(),\n",
    "          GradientBoostingRegressor(), SVR(), LinearSVR(), XGBRegressor()]\n",
    "\n",
    "names = ['LR', 'Ridge', 'Lasso', 'RF', 'GBR', 'SVR', 'LinSVR', 'Xgb']\n",
    "\n",
    "for name, model in zip(names, models):\n",
    "    score = rmse_cv(model, x_train, y_train)\n",
    "    print('{}:{:.6f},{:.4f}'.format(name, score.mean(), score.std()))"
   ]
  },
  {
   "cell_type": "code",
   "execution_count": 6,
   "metadata": {},
   "outputs": [],
   "source": [
    "# 可以看到，普通线性回归的均方根误差太大，排除这个模型\n",
    "\n",
    "# 查找最佳参数\n",
    "from sklearn.model_selection import GridSearchCV\n",
    "def grid_get(model, x, y, param):\n",
    "    grid_search = GridSearchCV(model, param, cv=5, scoring='neg_mean_squared_error')\n",
    "    grid_search.fit(x,y)\n",
    "    print(grid_search.best_params_, np.sqrt(-grid_search.best_score_))\n",
    "    print('*'*50)\n",
    "    grid_search.cv_results_['mean_test_score'] = np.sqrt(-grid_search.cv_results_['mean_test_score'])\n",
    "    print(pd.DataFrame(grid_search.cv_results_)[['params','mean_test_score','std_test_score']])"
   ]
  },
  {
   "cell_type": "code",
   "execution_count": 7,
   "metadata": {},
   "outputs": [
    {
     "name": "stdout",
     "output_type": "stream",
     "text": [
      "{'alpha': 0.0009, 'max_iter': 10000} 0.15101373974000018\n",
      "**************************************************\n",
      "                                 params  mean_test_score  std_test_score\n",
      "0  {'alpha': 0.0004, 'max_iter': 10000}         0.151260        0.008695\n",
      "1  {'alpha': 0.0005, 'max_iter': 10000}         0.151199        0.008695\n",
      "2  {'alpha': 0.0007, 'max_iter': 10000}         0.151101        0.008695\n",
      "3  {'alpha': 0.0009, 'max_iter': 10000}         0.151014        0.008698\n"
     ]
    }
   ],
   "source": [
    "# Lasso\n",
    "grid_get(Lasso(), x_train, y_train, {'alpha': [0.0004,0.0005,0.0007,0.0009],'max_iter':[10000]})"
   ]
  },
  {
   "cell_type": "code",
   "execution_count": 8,
   "metadata": {},
   "outputs": [
    {
     "name": "stdout",
     "output_type": "stream",
     "text": [
      "{'alpha': 90} 0.14996932119190648\n",
      "**************************************************\n",
      "          params  mean_test_score  std_test_score\n",
      "0  {'alpha': 35}         0.150670        0.008635\n",
      "1  {'alpha': 40}         0.150579        0.008625\n",
      "2  {'alpha': 45}         0.150495        0.008614\n",
      "3  {'alpha': 50}         0.150417        0.008603\n",
      "4  {'alpha': 55}         0.150345        0.008592\n",
      "5  {'alpha': 60}         0.150279        0.008580\n",
      "6  {'alpha': 65}         0.150217        0.008569\n",
      "7  {'alpha': 70}         0.150160        0.008558\n",
      "8  {'alpha': 80}         0.150057        0.008535\n",
      "9  {'alpha': 90}         0.149969        0.008511\n"
     ]
    }
   ],
   "source": [
    "# Ridge\n",
    "grid_get(Ridge(), x_train, y_train, {'alpha':[35,40,45,50,55,60,65,70,80,90]})"
   ]
  },
  {
   "cell_type": "code",
   "execution_count": 9,
   "metadata": {},
   "outputs": [
    {
     "name": "stdout",
     "output_type": "stream",
     "text": [
      "{'C': 15, 'epsilon': 0.008, 'gamma': 0.0004, 'kernel': 'rbf'} 0.1331892139655336\n",
      "**************************************************\n",
      "                                               params  mean_test_score  \\\n",
      "0   {'C': 11, 'epsilon': 0.008, 'gamma': 0.0003, '...         0.138261   \n",
      "1   {'C': 11, 'epsilon': 0.008, 'gamma': 0.0004, '...         0.134483   \n",
      "2   {'C': 11, 'epsilon': 0.009, 'gamma': 0.0003, '...         0.138338   \n",
      "3   {'C': 11, 'epsilon': 0.009, 'gamma': 0.0004, '...         0.134423   \n",
      "4   {'C': 13, 'epsilon': 0.008, 'gamma': 0.0003, '...         0.137734   \n",
      "5   {'C': 13, 'epsilon': 0.008, 'gamma': 0.0004, '...         0.133830   \n",
      "6   {'C': 13, 'epsilon': 0.009, 'gamma': 0.0003, '...         0.137759   \n",
      "7   {'C': 13, 'epsilon': 0.009, 'gamma': 0.0004, '...         0.133838   \n",
      "8   {'C': 15, 'epsilon': 0.008, 'gamma': 0.0003, '...         0.137198   \n",
      "9   {'C': 15, 'epsilon': 0.008, 'gamma': 0.0004, '...         0.133189   \n",
      "10  {'C': 15, 'epsilon': 0.009, 'gamma': 0.0003, '...         0.137169   \n",
      "11  {'C': 15, 'epsilon': 0.009, 'gamma': 0.0004, '...         0.133211   \n",
      "\n",
      "    std_test_score  \n",
      "0         0.006376  \n",
      "1         0.005449  \n",
      "2         0.006396  \n",
      "3         0.005446  \n",
      "4         0.006252  \n",
      "5         0.005320  \n",
      "6         0.006251  \n",
      "7         0.005329  \n",
      "8         0.006127  \n",
      "9         0.005182  \n",
      "10        0.006110  \n",
      "11        0.005190  \n"
     ]
    }
   ],
   "source": [
    "# SVR\n",
    "grid_get(SVR(), x_train, y_train, {'C':[11,13,15],'kernel':[\"rbf\"],\"gamma\":[0.0003,0.0004],\"epsilon\":[0.008,0.009]})"
   ]
  },
  {
   "cell_type": "code",
   "execution_count": 10,
   "metadata": {},
   "outputs": [
    {
     "name": "stdout",
     "output_type": "stream",
     "text": [
      "{'max_depth': 6} 0.13040865513956423\n",
      "**************************************************\n",
      "             params  mean_test_score  std_test_score\n",
      "0  {'max_depth': 1}         0.151889        0.002506\n",
      "1  {'max_depth': 2}         0.135204        0.002240\n",
      "2  {'max_depth': 3}         0.130727        0.003025\n",
      "3  {'max_depth': 4}         0.130763        0.002979\n",
      "4  {'max_depth': 5}         0.130754        0.003078\n",
      "5  {'max_depth': 6}         0.130409        0.002254\n"
     ]
    }
   ],
   "source": [
    "#xgboost\n",
    "grid_get(XGBRegressor(), x_train, y_train, {'max_depth':[1,2,3,4,5,6]})"
   ]
  },
  {
   "cell_type": "code",
   "execution_count": 11,
   "metadata": {},
   "outputs": [],
   "source": [
    "# 综合对比，xgboost效果最好\n",
    "\n",
    "xgb = XGBRegressor(max_depth=6)\n",
    "xgb.fit(x_train, y_train)\n",
    "y_xgb = np.expm1(xgb.predict(x_test))\n",
    "submission = pd.DataFrame(data= {'Id' : test_data.Id, 'SalePrice': y_xgb})\n",
    "\n",
    "submission.to_csv('data/submission.csv', index=False)"
   ]
  },
  {
   "cell_type": "code",
   "execution_count": 12,
   "metadata": {},
   "outputs": [],
   "source": [
    "# 提交之后评分0.13438，2012th，46%，这里只做了简单的数据处理和建模，如果做了特征工程和PCA降维，在进行参数调优应该会有提升"
   ]
  }
 ],
 "metadata": {
  "kernelspec": {
   "display_name": "Python 3",
   "language": "python",
   "name": "python3"
  },
  "language_info": {
   "codemirror_mode": {
    "name": "ipython",
    "version": 3
   },
   "file_extension": ".py",
   "mimetype": "text/x-python",
   "name": "python",
   "nbconvert_exporter": "python",
   "pygments_lexer": "ipython3",
   "version": "3.6.4"
  }
 },
 "nbformat": 4,
 "nbformat_minor": 2
}
